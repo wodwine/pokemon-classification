{
 "cells": [
  {
   "cell_type": "code",
   "execution_count": null,
   "id": "enormous-denver",
   "metadata": {},
   "outputs": [],
   "source": [
    "import os\n",
    "import pandas as pd\n",
    "import matplotlib.pyplot as plt\n",
    "import numpy as np\n",
    "import tensorflow as tf\n",
    "import tensorflow_hub as hub"
   ]
  },
  {
   "cell_type": "code",
   "execution_count": null,
   "id": "incoming-detector",
   "metadata": {},
   "outputs": [],
   "source": [
    "# def show_image(cur_dir):\n",
    "#     data_list = []\n",
    "#     data_directories = os.listdir(\"data/images\")\n",
    "#     for data in data_directories:\n",
    "#         for image in os.listdir(\"data/images/\"+data):\n",
    "#             if \".jpg\" in image:\n",
    "#                 data_list.append([\"data/images/\"+data+\"/\"+image,data])\n",
    "#     df = pd.DataFrame(data=data_list,columns=[\"id\",\"label\"])\n",
    "#     return df\n",
    "# data = show_image(os.listdir())\n",
    "# data.to_csv(\"data/pokemon_labels.csv\",index=False)"
   ]
  },
  {
   "cell_type": "code",
   "execution_count": null,
   "id": "unnecessary-organic",
   "metadata": {},
   "outputs": [],
   "source": [
    "data = pd.read_csv(\"data/pokemon_labels.csv\")\n",
    "data"
   ]
  },
  {
   "cell_type": "code",
   "execution_count": null,
   "id": "professional-barbados",
   "metadata": {},
   "outputs": [],
   "source": [
    "pokemon_list = list(data[\"label\"].unique())"
   ]
  },
  {
   "cell_type": "code",
   "execution_count": null,
   "id": "healthy-booth",
   "metadata": {},
   "outputs": [],
   "source": [
    "data_label = data[\"label\"]\n",
    "boolean_data_label = [label == np.array(pokemon_list) for label in data_label]"
   ]
  },
  {
   "cell_type": "code",
   "execution_count": null,
   "id": "injured-recruitment",
   "metadata": {},
   "outputs": [],
   "source": [
    "X = list(data[\"id\"].values)\n",
    "y = boolean_data_label"
   ]
  },
  {
   "cell_type": "code",
   "execution_count": null,
   "id": "accessory-bunny",
   "metadata": {},
   "outputs": [],
   "source": [
    "from sklearn.model_selection import train_test_split\n",
    "\n",
    "X_train,X_test,y_train,y_test = train_test_split(X,y,test_size=0.2,random_state=7)"
   ]
  },
  {
   "cell_type": "code",
   "execution_count": null,
   "id": "offensive-testing",
   "metadata": {},
   "outputs": [],
   "source": [
    "IMG_SIZE = 224\n",
    "\n",
    "def process_image(image_path,img_size=IMG_SIZE):\n",
    "    \"\"\"\n",
    "    Take an image file path and turn image into a Tensor.\n",
    "    \"\"\"\n",
    "    image = tf.io.read_file(image_path) # Read image file\n",
    "    image = tf.image.decode_jpeg(image,channels=3) # Turn the image into 3 channels RGB\n",
    "    image = tf.image.convert_image_dtype(image,tf.float32) # Turn the value 0-255 to 0-1\n",
    "    image = tf.image.resize(image,size=[img_size,img_size]) # Resize the image to 224x224\n",
    "    return image "
   ]
  },
  {
   "cell_type": "code",
   "execution_count": null,
   "id": "gross-yacht",
   "metadata": {},
   "outputs": [],
   "source": [
    "def get_image_label(image_path,label):\n",
    "    \"\"\"\n",
    "    Take an image file path name and the associated label,\n",
    "    process the image and return a tuple of (image,label)\n",
    "    \"\"\"\n",
    "    image = process_image(image_path)\n",
    "    return image,label"
   ]
  },
  {
   "cell_type": "code",
   "execution_count": null,
   "id": "least-worry",
   "metadata": {},
   "outputs": [],
   "source": [
    "BATCH_SIZE = 32\n",
    "\n",
    "def create_data_batches(X,y=None,batch_size=BATCH_SIZE,valid_data=False,test_data=False):\n",
    "    \"\"\"\n",
    "    Create batches of data out of image (X) and lebel (y) pairs.\n",
    "    Shuffles the data if it's training data but doesn't shuffle if it's validation data.\n",
    "    Also accepts test data as input (no labels).\n",
    "    \"\"\"\n",
    "    # If the data is a test dataset, we probably don't have labels\n",
    "    if test_data:\n",
    "        print(\"Creating testing data batches...\")\n",
    "        data = tf.data.Dataset.from_tensor_slices((tf.constant(X))) # Only file path (no label)\n",
    "        data_batch = data.map(process_image).batch(batch_size)\n",
    "        return data_batch\n",
    "\n",
    "    # If the data is valid dataset, we don't have to shuffle it\n",
    "    elif valid_data:\n",
    "        print(\"Creating validation data batches...\")\n",
    "        data = tf.data.Dataset.from_tensor_slices((tf.constant(X),tf.constant(y))) # file path, label\n",
    "        data_batch = data.map(get_image_label).batch(batch_size)\n",
    "        return data_batch\n",
    "\n",
    "    else:\n",
    "        print(\"Creating training data batches...\")\n",
    "        data = tf.data.Dataset.from_tensor_slices((tf.constant(X),tf.constant(y))) # file path, label\n",
    "        data = data.shuffle(buffer_size=len(X))\n",
    "        data_batch = data.map(get_image_label).batch(batch_size)\n",
    "        return data_batch"
   ]
  },
  {
   "cell_type": "code",
   "execution_count": null,
   "id": "inclusive-emperor",
   "metadata": {},
   "outputs": [],
   "source": [
    "# Create training and validation data batches\n",
    "train_data = create_data_batches(X=X_train,y=y_train)\n",
    "val_data = create_data_batches(X=X_test,y=y_test,valid_data=True)"
   ]
  },
  {
   "cell_type": "code",
   "execution_count": null,
   "id": "sharp-uniform",
   "metadata": {},
   "outputs": [],
   "source": [
    "import matplotlib.pyplot as plt\n",
    "\n",
    "def show_25_images(images,labels,predicted):\n",
    "    \"\"\"\n",
    "    Display a plot of 25 images and their labels from a batch.\n",
    "    \"\"\"\n",
    "    plt.figure(figsize=(15,10))\n",
    "    for i in range(25):\n",
    "        if pokemon_list[labels[i].argmax()] == pokemon_list[predicted[i].argmax()]:\n",
    "            color = 'blue'\n",
    "        else:\n",
    "            color = 'red'\n",
    "        ax = plt.subplot(5,5,i+1)\n",
    "        plt.imshow(images[i])\n",
    "        plt.title(pokemon_list[labels[i].argmax()],color=color)\n",
    "        plt.axis(\"off\")"
   ]
  },
  {
   "cell_type": "code",
   "execution_count": null,
   "id": "decent-assets",
   "metadata": {},
   "outputs": [],
   "source": [
    "train_images,train_labels = next(train_data.as_numpy_iterator())\n",
    "show_25_images(train_images,train_labels,train_labels)"
   ]
  },
  {
   "cell_type": "code",
   "execution_count": null,
   "id": "fossil-assist",
   "metadata": {},
   "outputs": [],
   "source": [
    "NUM_EPOCHS = 20\n",
    "early_stopping = tf.keras.callbacks.EarlyStopping(monitor=\"val_accuracy\",patience=3)\n",
    "INPUT_SHAPE = [None,IMG_SIZE,IMG_SIZE,3]\n",
    "OUTPUT_SHAPE = 149\n",
    "MODEL_URL = \"https://tfhub.dev/google/imagenet/mobilenet_v2_130_224/classification/4\"\n",
    "\n",
    "def create_model(input_shape=INPUT_SHAPE,output_shape=OUTPUT_SHAPE,model_url=MODEL_URL):\n",
    "    print(f\"Building model with: {model_url}\")\n",
    "    model = tf.keras.Sequential([\n",
    "        hub.KerasLayer(model_url), # Layer 1: Input layer\n",
    "        tf.keras.layers.Dense(units=OUTPUT_SHAPE,activation=\"softmax\")]) # Layer 2: Output layer\n",
    "    model.compile(\n",
    "        loss=tf.keras.losses.CategoricalCrossentropy(),\n",
    "        optimizer=tf.keras.optimizers.Adam(),\n",
    "        metrics=[\"accuracy\"])\n",
    "    model.build(input_shape)\n",
    "    return model"
   ]
  },
  {
   "cell_type": "code",
   "execution_count": null,
   "id": "lightweight-shelf",
   "metadata": {},
   "outputs": [],
   "source": [
    "import datetime\n",
    "\n",
    "def create_tensorboard_callback():\n",
    "    logdir = os.path.join(\"logs\",datetime.datetime.now().strftime(\"%Y%m%d-%H%M%S\"))\n",
    "    return tf.keras.callbacks.TensorBoard(logdir)"
   ]
  },
  {
   "cell_type": "code",
   "execution_count": null,
   "id": "intensive-wonder",
   "metadata": {},
   "outputs": [],
   "source": [
    "early_stopping = tf.keras.callbacks.EarlyStopping(monitor=\"val_accuracy\",patience=3)\n",
    "\n",
    "def train_model():\n",
    "    \"\"\"\n",
    "    Train a given model and return the trained version.\n",
    "    \"\"\"\n",
    "    model = create_model() # Create a model\n",
    "    model.summary()\n",
    "    tensorboard = create_tensorboard_callback() # Create tensorboard callback\n",
    "    model.fit(x=train_data,\n",
    "              epochs=NUM_EPOCHS,\n",
    "            validation_data=val_data,\n",
    "            validation_freq=1,\n",
    "            callbacks=[tensorboard,early_stopping]) # Fit the model passing it the callback we created\n",
    "    return model"
   ]
  },
  {
   "cell_type": "code",
   "execution_count": null,
   "id": "chronic-cleaner",
   "metadata": {},
   "outputs": [],
   "source": [
    "model = train_model()"
   ]
  },
  {
   "cell_type": "code",
   "execution_count": null,
   "id": "mobile-acrobat",
   "metadata": {},
   "outputs": [],
   "source": [
    "model.save(\"models/pokemon-classification.h5\")"
   ]
  },
  {
   "cell_type": "code",
   "execution_count": null,
   "id": "enclosed-business",
   "metadata": {},
   "outputs": [],
   "source": [
    "test_predicted = model.predict(val_data)"
   ]
  },
  {
   "cell_type": "code",
   "execution_count": null,
   "id": "billion-gambling",
   "metadata": {},
   "outputs": [],
   "source": [
    "list_predicted = [l.argmax() for l in np.round(test_predicted)]\n",
    "list_y_test = [l.argmax() for l in y_test]"
   ]
  },
  {
   "cell_type": "code",
   "execution_count": null,
   "id": "about-privilege",
   "metadata": {},
   "outputs": [],
   "source": [
    "from sklearn.metrics import accuracy_score\n",
    "\n",
    "print(f\"The accuracy: {accuracy_score(list_predicted,list_y_test)*100:.2f}\")"
   ]
  },
  {
   "cell_type": "code",
   "execution_count": null,
   "id": "excellent-hughes",
   "metadata": {},
   "outputs": [],
   "source": [
    "show_25_images(val_images,y_test,test_predicted)"
   ]
  },
  {
   "cell_type": "code",
   "execution_count": null,
   "id": "exotic-memorial",
   "metadata": {},
   "outputs": [],
   "source": []
  }
 ],
 "metadata": {
  "kernelspec": {
   "display_name": "Python 3",
   "language": "python",
   "name": "python3"
  },
  "language_info": {
   "codemirror_mode": {
    "name": "ipython",
    "version": 3
   },
   "file_extension": ".py",
   "mimetype": "text/x-python",
   "name": "python",
   "nbconvert_exporter": "python",
   "pygments_lexer": "ipython3",
   "version": "3.8.5"
  }
 },
 "nbformat": 4,
 "nbformat_minor": 5
}
